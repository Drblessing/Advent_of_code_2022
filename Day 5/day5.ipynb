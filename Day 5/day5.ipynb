{
 "cells": [
  {
   "cell_type": "code",
   "execution_count": 15,
   "metadata": {},
   "outputs": [
    {
     "name": "stdout",
     "output_type": "stream",
     "text": [
      "QGTHFZBHV\n"
     ]
    }
   ],
   "source": [
    "# Day 5: Part 1\n",
    "\n",
    "# Read input\n",
    "with open('input.txt') as f:\n",
    "    data = f.read().splitlines()\n",
    "\n",
    "# Parse input\n",
    "# 1. Seperate moves and starting shipping stacks\n",
    "# 2. Turn 9 shipping stacks into a list of lists\n",
    "# 3. Turn moves into a list of moves\n",
    "# 4. Run moves on starting shipping stacks\n",
    "\n",
    "# 1. Seperate moves and starting shipping stacks\n",
    "shipping_stacks = data[:8]\n",
    "moves = data[10:]\n",
    "\n",
    "# 2. Turn 9 shipping stacks into a list of lists\n",
    "stacks = [[] for _ in range(9)]\n",
    "for stack in shipping_stacks:\n",
    "    # Every four characters is a stack\n",
    "    # the second letter is the stack container\n",
    "    for i in range(0, len(stack), 4):\n",
    "        stack_number = i // 4\n",
    "        potential_container = stack[i:i+4]\n",
    "        # If the container is not empty \n",
    "        if potential_container[1] != ' ': \n",
    "            stacks[stack_number].append(potential_container[1])\n",
    "# Reverse the stacks so the top is the first element\n",
    "# This makes it easier to pop from the stack\n",
    "stacks = [stack[::-1] for stack in stacks]\n",
    "\n",
    "# 3. Turn moves into a list of moves\n",
    "moves_list = []\n",
    "for move in moves:\n",
    "    # The first letter is the number of containers to move\n",
    "    # The second number is the source stack\n",
    "    # The third number is the destination stack\n",
    "    # Find numbers in move\n",
    "    numbers = [int(number) for number in move.split() if number.isdigit()]\n",
    "    moves_list.append(numbers)\n",
    "\n",
    "# 4. Run moves on starting shipping stacks\n",
    "for move in moves_list:\n",
    "    # Fix index\n",
    "    move[1] -= 1\n",
    "    move[2] -= 1\n",
    "    # Move containers from source stack to destination stack\n",
    "    for _ in range(move[0]):\n",
    "        # Check if the source stack is empty\n",
    "        if stacks[move[1]]:\n",
    "            # Pop the top container from the source stack\n",
    "            container = stacks[move[1]].pop()\n",
    "            # Push the container onto the destination stack\n",
    "            stacks[move[2]].append(container)\n",
    "# Print top of each stack\n",
    "print(''.join([stack[-1] for stack in stacks]))"
   ]
  },
  {
   "cell_type": "code",
   "execution_count": 30,
   "metadata": {},
   "outputs": [
    {
     "name": "stdout",
     "output_type": "stream",
     "text": [
      "MGDMPSZTM\n"
     ]
    }
   ],
   "source": [
    "# Day 5: Part 2\n",
    "# Supply Stacks\n",
    "# CrateMover 9001\n",
    "# Read input\n",
    "with open('input.txt') as f:\n",
    "    data = f.read().splitlines()\n",
    "\n",
    "# Solution\n",
    "# Parse Input\n",
    "# Simulate crane movement\n",
    "\n",
    "# 1. Seperate moves and starting shipping stacks\n",
    "# 2. Turn 9 shipping stacks into a list of lists\n",
    "# 3. Turn moves into a list of moves\n",
    "# 4. Run moves on starting shipping stacks\n",
    "\n",
    "# 1. Seperate moves and starting shipping stacks\n",
    "shipping_stacks = data[:8]\n",
    "moves = data[10:]\n",
    "\n",
    "# 2. Turn 9 shipping stacks into a list of lists\n",
    "stacks = [[] for _ in range(9)]\n",
    "for stack in shipping_stacks:\n",
    "    # Every four characters is a stack\n",
    "    # the second letter is the stack container\n",
    "    for i in range(0, len(stack), 4):\n",
    "        stack_number = i // 4\n",
    "        potential_container = stack[i:i+4]\n",
    "        # If the container is not empty \n",
    "        if potential_container[1] != ' ': \n",
    "            stacks[stack_number].append(potential_container[1])\n",
    "# Reverse the stacks so the top is the first element\n",
    "# This makes it easier to pop from the stack\n",
    "stacks = [stack[::-1] for stack in stacks]\n",
    "\n",
    "# 3. Turn moves into a list of moves\n",
    "moves_list = []\n",
    "for move in moves:\n",
    "    # The first letter is the number of containers to move\n",
    "    # The second number is the source stack\n",
    "    # The third number is the destination stack\n",
    "    # Find numbers in move\n",
    "    numbers = [int(number) for number in move.split() if number.isdigit()]\n",
    "    moves_list.append(numbers)\n",
    "\n",
    "# 4. Run moves on starting shipping stacks\n",
    "for move in moves_list:\n",
    "    # Fix index\n",
    "    move[1] -= 1\n",
    "    move[2] -= 1\n",
    "    # Move containers from source stack to destination stack\n",
    "    # Move containers as a group, not one at a time\n",
    "    # Check if the source stack is empty\n",
    "    if stacks[move[1]]:\n",
    "        # Grab the top containers from the source stack\n",
    "        containers_to_move = stacks[move[1]][-move[0]:]\n",
    "        # Remove the containers from the source stack\n",
    "        stacks[move[1]] = stacks[move[1]][:-move[0]]\n",
    "        # Push the containers onto the destination stack\n",
    "        stacks[move[2]] += containers_to_move\n",
    "# Print top of each stack\n",
    "print(''.join([stack[-1] for stack in stacks]))"
   ]
  }
 ],
 "metadata": {
  "kernelspec": {
   "display_name": "Python 3.10.4 64-bit",
   "language": "python",
   "name": "python3"
  },
  "language_info": {
   "codemirror_mode": {
    "name": "ipython",
    "version": 3
   },
   "file_extension": ".py",
   "mimetype": "text/x-python",
   "name": "python",
   "nbconvert_exporter": "python",
   "pygments_lexer": "ipython3",
   "version": "3.10.4"
  },
  "orig_nbformat": 4,
  "vscode": {
   "interpreter": {
    "hash": "3ad933181bd8a04b432d3370b9dc3b0662ad032c4dfaa4e4f1596c548f763858"
   }
  }
 },
 "nbformat": 4,
 "nbformat_minor": 2
}
