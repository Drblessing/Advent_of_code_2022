{
 "cells": [
  {
   "cell_type": "code",
   "execution_count": 10,
   "metadata": {},
   "outputs": [
    {
     "name": "stdout",
     "output_type": "stream",
     "text": [
      "459\n"
     ]
    }
   ],
   "source": [
    "# Day 4: Part 1\n",
    "# Read input\n",
    "with open('input.txt') as f:\n",
    "    data = f.read().splitlines()\n",
    "\n",
    "# Parse input\n",
    "# 1. Split lines by comma\n",
    "# 2. Calculate if one interval is wholly contained in another\n",
    "# 3. Sum the number of intervals that are wholly contained in another\n",
    "\n",
    "intervals = 0\n",
    "for line in data:\n",
    "    interval1, interval2 = line.split(',')\n",
    "    x1, y1 = interval1.split('-')\n",
    "    x2, y2 = interval2.split('-')\n",
    "    if int(x1) <= int(x2) <= int(y2) <= int(y1):\n",
    "        intervals += 1\n",
    "    elif int(x2) <= int(x1) <= int(y1) <= int(y2):\n",
    "        intervals += 1\n",
    "print(intervals)"
   ]
  },
  {
   "cell_type": "code",
   "execution_count": 11,
   "metadata": {},
   "outputs": [
    {
     "name": "stdout",
     "output_type": "stream",
     "text": [
      "779\n"
     ]
    }
   ],
   "source": [
    "# Day 4: Part 2\n",
    "# Read input\n",
    "with open('input.txt') as f:\n",
    "    data = f.read().splitlines()\n",
    "\n",
    "# Parse input\n",
    "# 1. Split lines by comma\n",
    "# 2. Calculate if the intervals overlap\n",
    "# 3. Sum the number of intervals that overlap\n",
    "\n",
    "intervals = 0\n",
    "for line in data:\n",
    "    interval1, interval2 = line.split(',')\n",
    "    x1, y1 = interval1.split('-')\n",
    "    x2, y2 = interval2.split('-')\n",
    "    if int(x1) <= int(x2) <= int(y1) or int(x2) <= int(x1) <= int(y2):\n",
    "        intervals += 1\n",
    "print(intervals)"
   ]
  }
 ],
 "metadata": {
  "kernelspec": {
   "display_name": "Python 3.10.4 64-bit",
   "language": "python",
   "name": "python3"
  },
  "language_info": {
   "codemirror_mode": {
    "name": "ipython",
    "version": 3
   },
   "file_extension": ".py",
   "mimetype": "text/x-python",
   "name": "python",
   "nbconvert_exporter": "python",
   "pygments_lexer": "ipython3",
   "version": "3.10.4"
  },
  "orig_nbformat": 4,
  "vscode": {
   "interpreter": {
    "hash": "3ad933181bd8a04b432d3370b9dc3b0662ad032c4dfaa4e4f1596c548f763858"
   }
  }
 },
 "nbformat": 4,
 "nbformat_minor": 2
}
