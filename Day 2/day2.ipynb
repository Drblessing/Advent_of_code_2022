{
 "cells": [
  {
   "cell_type": "code",
   "execution_count": 5,
   "metadata": {},
   "outputs": [
    {
     "name": "stdout",
     "output_type": "stream",
     "text": [
      "13924\n"
     ]
    }
   ],
   "source": [
    "# Day 2: Part One\n",
    "# Rock paper scissors\n",
    "# Read input\n",
    "with open('input.txt') as f:\n",
    "    data = f.read().splitlines()\n",
    "\n",
    "# Define point values for each choice\n",
    "choices_to_points = {'rock': 1, 'paper': 2, 'scissors': 3}\n",
    "letter_to_choices = {\"A\": 'rock', \"B\": 'paper', \"C\": 'scissors',\"X\": 'rock', \"Y\": 'paper', \"Z\": 'scissors'}\n",
    "outcome_to_points = {'win': 6, 'lose': 0, 'draw': 3}\n",
    "\n",
    "# Iterate over each game\n",
    "# adding score to total\n",
    "total_score = 0 \n",
    "for game in data:\n",
    "    opponent_choice = letter_to_choices[game[0]]\n",
    "    my_choice = letter_to_choices[game[2]]\n",
    "\n",
    "    # Calculate Score\n",
    "    # Draw\n",
    "    if opponent_choice == my_choice:\n",
    "        total_score += outcome_to_points['draw'] + choices_to_points[my_choice]\n",
    "    # Win\n",
    "    elif (my_choice == 'scissors' and opponent_choice == 'paper') or (my_choice == 'paper' and opponent_choice == 'rock') or (my_choice == 'rock' and opponent_choice == 'scissors'):\n",
    "        total_score += outcome_to_points['win'] + choices_to_points[my_choice]\n",
    "    # Lose\n",
    "    else:\n",
    "        total_score += outcome_to_points['lose'] + choices_to_points[my_choice]\n",
    "print(total_score)"
   ]
  },
  {
   "cell_type": "code",
   "execution_count": 6,
   "metadata": {},
   "outputs": [
    {
     "name": "stdout",
     "output_type": "stream",
     "text": [
      "13448\n"
     ]
    }
   ],
   "source": [
    "# Day 2: Part Two\n",
    "# Rock paper scissors\n",
    "# Read input\n",
    "with open('input.txt') as f:\n",
    "    data = f.read().splitlines()\n",
    "\n",
    "# Define point values for each choice\n",
    "choices_to_points = {'rock': 1, 'paper': 2, 'scissors': 3}\n",
    "letter_to_choices = {\"A\": 'rock', \"B\": 'paper', \"C\": 'scissors',\"X\": 'rock', \"Y\": 'paper', \"Z\": 'scissors'}\n",
    "outcome_to_points = {'win': 6, 'lose': 0, 'draw': 3}\n",
    "letter_to_outcome = {\"X\": 'lose' , \"Y\": 'draw', \"Z\": 'win'}\n",
    "\n",
    "\n",
    "\n",
    "# Iterate over each game\n",
    "# adding score to total\n",
    "total_score = 0\n",
    "for game in data:\n",
    "    opponent_choice = letter_to_choices[game[0]]\n",
    "    outcome = letter_to_outcome[game[2]]\n",
    "\n",
    "    # Calculate my choice based on the outcome and opponent choice\n",
    "    if outcome == 'win':\n",
    "        if opponent_choice == 'rock':\n",
    "            my_choice = 'paper'\n",
    "        elif opponent_choice == 'paper':\n",
    "            my_choice = 'scissors'\n",
    "        else:\n",
    "            my_choice = 'rock'\n",
    "    elif outcome == 'lose':\n",
    "        if opponent_choice == 'rock':\n",
    "            my_choice = 'scissors'\n",
    "        elif opponent_choice == 'paper':\n",
    "            my_choice = 'rock'\n",
    "        else:\n",
    "            my_choice = 'paper'\n",
    "    else:\n",
    "        my_choice = opponent_choice\n",
    "\n",
    "    # Calculate Score\n",
    "    # Draw\n",
    "    if outcome == 'draw':\n",
    "        total_score += outcome_to_points['draw'] + choices_to_points[my_choice]\n",
    "    # Win\n",
    "    elif outcome == 'win':\n",
    "        total_score += outcome_to_points['win'] + choices_to_points[my_choice]\n",
    "    # Lose\n",
    "    else:\n",
    "        total_score += outcome_to_points['lose'] + choices_to_points[my_choice]\n",
    "\n",
    "print(total_score)"
   ]
  }
 ],
 "metadata": {
  "kernelspec": {
   "display_name": "Python 3.10.4 64-bit",
   "language": "python",
   "name": "python3"
  },
  "language_info": {
   "codemirror_mode": {
    "name": "ipython",
    "version": 3
   },
   "file_extension": ".py",
   "mimetype": "text/x-python",
   "name": "python",
   "nbconvert_exporter": "python",
   "pygments_lexer": "ipython3",
   "version": "3.10.4"
  },
  "orig_nbformat": 4,
  "vscode": {
   "interpreter": {
    "hash": "3ad933181bd8a04b432d3370b9dc3b0662ad032c4dfaa4e4f1596c548f763858"
   }
  }
 },
 "nbformat": 4,
 "nbformat_minor": 2
}
