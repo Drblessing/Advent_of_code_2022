{
 "cells": [
  {
   "cell_type": "code",
   "execution_count": 13,
   "metadata": {},
   "outputs": [
    {
     "name": "stdout",
     "output_type": "stream",
     "text": [
      "7889\n"
     ]
    }
   ],
   "source": [
    "# Day 3: Part  1\n",
    "# Read input\n",
    "with open('input.txt') as f:\n",
    "    data = f.readlines()\n",
    "    data = [x.strip() for x in data]\n",
    "\n",
    "# Parse input\n",
    "# 1. Split each line in half\n",
    "# 2. Find the letter repeated in each half\n",
    "# 3. Find the priority value of the letter \n",
    "# 4. Sum up the priority values\n",
    "# Letters a-z have priority values 1-26\n",
    "# Letters A-Z have priority values 27-52\n",
    "priority = 0\n",
    "for line in data:\n",
    "    mid = len(line) // 2\n",
    "    first_half = line[:mid]\n",
    "    second_half = line[mid:]\n",
    "    for letter in first_half:\n",
    "        if letter in second_half:\n",
    "            priority += ord(letter) - 38 if letter.isupper() else ord(letter) - 96\n",
    "            break\n",
    "print(priority)"
   ]
  },
  {
   "cell_type": "code",
   "execution_count": 21,
   "metadata": {},
   "outputs": [
    {
     "name": "stdout",
     "output_type": "stream",
     "text": [
      "2825\n"
     ]
    }
   ],
   "source": [
    "# Day 3: Part 2\n",
    "# Read input\n",
    "with open('input.txt') as f:\n",
    "    data = f.readlines()\n",
    "    data = [x.strip() for x in data]\n",
    "\n",
    "# Parse input\n",
    "# 1. Group the lines into groups of 3\n",
    "# 2. Find the letter repeated in each group\n",
    "# 3. Find the priority value of the letter\n",
    "# 4. Sum up the priority values\n",
    "# Letters a-z have priority values 1-26\n",
    "# Letters A-Z have priority values 27-52\n",
    "priority = 0\n",
    "for i in range(0, len(data), 3):\n",
    "    for letter in data[i]:\n",
    "        if letter in data[i+1] and letter in data[i+2]:\n",
    "            priority += ord(letter) - 38 if letter.isupper() else ord(letter) - 96\n",
    "            break\n",
    "print(priority)"
   ]
  },
  {
   "cell_type": "code",
   "execution_count": 17,
   "metadata": {},
   "outputs": [
    {
     "data": {
      "text/plain": [
       "'B'"
      ]
     },
     "execution_count": 17,
     "metadata": {},
     "output_type": "execute_result"
    }
   ],
   "source": [
    "data[0][0]"
   ]
  }
 ],
 "metadata": {
  "kernelspec": {
   "display_name": "Python 3.10.4 64-bit",
   "language": "python",
   "name": "python3"
  },
  "language_info": {
   "codemirror_mode": {
    "name": "ipython",
    "version": 3
   },
   "file_extension": ".py",
   "mimetype": "text/x-python",
   "name": "python",
   "nbconvert_exporter": "python",
   "pygments_lexer": "ipython3",
   "version": "3.10.4"
  },
  "orig_nbformat": 4,
  "vscode": {
   "interpreter": {
    "hash": "3ad933181bd8a04b432d3370b9dc3b0662ad032c4dfaa4e4f1596c548f763858"
   }
  }
 },
 "nbformat": 4,
 "nbformat_minor": 2
}
